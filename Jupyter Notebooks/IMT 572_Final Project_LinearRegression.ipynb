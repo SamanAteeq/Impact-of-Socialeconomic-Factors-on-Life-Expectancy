{
 "cells": [
  {
   "cell_type": "markdown",
   "id": "48d6ba75",
   "metadata": {},
   "source": [
    "# Linear Regression - IMT 572 Final Project - Group 1"
   ]
  },
  {
   "cell_type": "code",
   "execution_count": 29,
   "id": "b5b0e7a7",
   "metadata": {},
   "outputs": [],
   "source": [
    "#Importing Relevant Python Libraries and Modules\n",
    "import pandas as pd\n",
    "import numpy as np\n",
    "from sklearn.linear_model import LinearRegression\n",
    "from sklearn.model_selection import train_test_split\n",
    "import matplotlib.pyplot as plt\n",
    "from sklearn.preprocessing import StandardScaler\n",
    "from sklearn.decomposition import PCA\n",
    "from sklearn import datasets\n",
    "from scipy import stats\n",
    "from sklearn.tree import DecisionTreeRegressor\n",
    "from sklearn import metrics  "
   ]
  },
  {
   "cell_type": "code",
   "execution_count": 30,
   "id": "07cd6955",
   "metadata": {
    "scrolled": false
   },
   "outputs": [
    {
     "data": {
      "text/html": [
       "<div>\n",
       "<style scoped>\n",
       "    .dataframe tbody tr th:only-of-type {\n",
       "        vertical-align: middle;\n",
       "    }\n",
       "\n",
       "    .dataframe tbody tr th {\n",
       "        vertical-align: top;\n",
       "    }\n",
       "\n",
       "    .dataframe thead th {\n",
       "        text-align: right;\n",
       "    }\n",
       "</style>\n",
       "<table border=\"1\" class=\"dataframe\">\n",
       "  <thead>\n",
       "    <tr style=\"text-align: right;\">\n",
       "      <th></th>\n",
       "      <th>Country</th>\n",
       "      <th>Year</th>\n",
       "      <th>Status</th>\n",
       "      <th>Life expectancy</th>\n",
       "      <th>Adult Mortality</th>\n",
       "      <th>infant deaths</th>\n",
       "      <th>Alcohol</th>\n",
       "      <th>percentage expenditure</th>\n",
       "      <th>Hepatitis B</th>\n",
       "      <th>BMI</th>\n",
       "      <th>...</th>\n",
       "      <th>Total expenditure</th>\n",
       "      <th>Diphtheria</th>\n",
       "      <th>HIV/AIDS</th>\n",
       "      <th>GDP</th>\n",
       "      <th>Population</th>\n",
       "      <th>thinness  1-19 years</th>\n",
       "      <th>thinness 5-9 years</th>\n",
       "      <th>Income composition of resources</th>\n",
       "      <th>Schooling</th>\n",
       "      <th>Measles</th>\n",
       "    </tr>\n",
       "  </thead>\n",
       "  <tbody>\n",
       "    <tr>\n",
       "      <th>0</th>\n",
       "      <td>0</td>\n",
       "      <td>2015</td>\n",
       "      <td>1</td>\n",
       "      <td>65.0</td>\n",
       "      <td>263.0</td>\n",
       "      <td>62</td>\n",
       "      <td>0.01</td>\n",
       "      <td>71.279624</td>\n",
       "      <td>65.0</td>\n",
       "      <td>19.1</td>\n",
       "      <td>...</td>\n",
       "      <td>8.16</td>\n",
       "      <td>65.0</td>\n",
       "      <td>0.1</td>\n",
       "      <td>584.259210</td>\n",
       "      <td>33736494.0</td>\n",
       "      <td>17.2</td>\n",
       "      <td>17.3</td>\n",
       "      <td>0.479</td>\n",
       "      <td>10.1</td>\n",
       "      <td>0.538431</td>\n",
       "    </tr>\n",
       "    <tr>\n",
       "      <th>1</th>\n",
       "      <td>0</td>\n",
       "      <td>2014</td>\n",
       "      <td>1</td>\n",
       "      <td>59.9</td>\n",
       "      <td>271.0</td>\n",
       "      <td>64</td>\n",
       "      <td>0.01</td>\n",
       "      <td>73.523582</td>\n",
       "      <td>62.0</td>\n",
       "      <td>18.6</td>\n",
       "      <td>...</td>\n",
       "      <td>8.18</td>\n",
       "      <td>62.0</td>\n",
       "      <td>0.1</td>\n",
       "      <td>612.696514</td>\n",
       "      <td>327582.0</td>\n",
       "      <td>17.5</td>\n",
       "      <td>17.5</td>\n",
       "      <td>0.476</td>\n",
       "      <td>10.0</td>\n",
       "      <td>0.229557</td>\n",
       "    </tr>\n",
       "    <tr>\n",
       "      <th>2</th>\n",
       "      <td>0</td>\n",
       "      <td>2013</td>\n",
       "      <td>1</td>\n",
       "      <td>59.9</td>\n",
       "      <td>268.0</td>\n",
       "      <td>66</td>\n",
       "      <td>0.01</td>\n",
       "      <td>73.219243</td>\n",
       "      <td>64.0</td>\n",
       "      <td>18.1</td>\n",
       "      <td>...</td>\n",
       "      <td>8.13</td>\n",
       "      <td>64.0</td>\n",
       "      <td>0.1</td>\n",
       "      <td>631.744976</td>\n",
       "      <td>31731688.0</td>\n",
       "      <td>17.7</td>\n",
       "      <td>17.7</td>\n",
       "      <td>0.470</td>\n",
       "      <td>9.9</td>\n",
       "      <td>0.200629</td>\n",
       "    </tr>\n",
       "    <tr>\n",
       "      <th>3</th>\n",
       "      <td>0</td>\n",
       "      <td>2012</td>\n",
       "      <td>1</td>\n",
       "      <td>59.5</td>\n",
       "      <td>272.0</td>\n",
       "      <td>69</td>\n",
       "      <td>0.01</td>\n",
       "      <td>78.184215</td>\n",
       "      <td>67.0</td>\n",
       "      <td>17.6</td>\n",
       "      <td>...</td>\n",
       "      <td>8.52</td>\n",
       "      <td>67.0</td>\n",
       "      <td>0.1</td>\n",
       "      <td>669.959000</td>\n",
       "      <td>3696958.0</td>\n",
       "      <td>17.9</td>\n",
       "      <td>18.0</td>\n",
       "      <td>0.463</td>\n",
       "      <td>9.8</td>\n",
       "      <td>1.300354</td>\n",
       "    </tr>\n",
       "    <tr>\n",
       "      <th>4</th>\n",
       "      <td>0</td>\n",
       "      <td>2011</td>\n",
       "      <td>1</td>\n",
       "      <td>59.2</td>\n",
       "      <td>275.0</td>\n",
       "      <td>71</td>\n",
       "      <td>0.01</td>\n",
       "      <td>7.097109</td>\n",
       "      <td>68.0</td>\n",
       "      <td>17.2</td>\n",
       "      <td>...</td>\n",
       "      <td>7.87</td>\n",
       "      <td>68.0</td>\n",
       "      <td>0.1</td>\n",
       "      <td>63.537231</td>\n",
       "      <td>2978599.0</td>\n",
       "      <td>18.2</td>\n",
       "      <td>18.2</td>\n",
       "      <td>0.454</td>\n",
       "      <td>9.5</td>\n",
       "      <td>1.405801</td>\n",
       "    </tr>\n",
       "  </tbody>\n",
       "</table>\n",
       "<p>5 rows × 22 columns</p>\n",
       "</div>"
      ],
      "text/plain": [
       "   Country  Year  Status  Life expectancy   Adult Mortality  infant deaths  \\\n",
       "0        0  2015       1              65.0            263.0             62   \n",
       "1        0  2014       1              59.9            271.0             64   \n",
       "2        0  2013       1              59.9            268.0             66   \n",
       "3        0  2012       1              59.5            272.0             69   \n",
       "4        0  2011       1              59.2            275.0             71   \n",
       "\n",
       "   Alcohol  percentage expenditure  Hepatitis B   BMI   ...  \\\n",
       "0     0.01               71.279624         65.0   19.1  ...   \n",
       "1     0.01               73.523582         62.0   18.6  ...   \n",
       "2     0.01               73.219243         64.0   18.1  ...   \n",
       "3     0.01               78.184215         67.0   17.6  ...   \n",
       "4     0.01                7.097109         68.0   17.2  ...   \n",
       "\n",
       "   Total expenditure  Diphtheria    HIV/AIDS         GDP  Population  \\\n",
       "0               8.16         65.0        0.1  584.259210  33736494.0   \n",
       "1               8.18         62.0        0.1  612.696514    327582.0   \n",
       "2               8.13         64.0        0.1  631.744976  31731688.0   \n",
       "3               8.52         67.0        0.1  669.959000   3696958.0   \n",
       "4               7.87         68.0        0.1   63.537231   2978599.0   \n",
       "\n",
       "    thinness  1-19 years   thinness 5-9 years  \\\n",
       "0                   17.2                 17.3   \n",
       "1                   17.5                 17.5   \n",
       "2                   17.7                 17.7   \n",
       "3                   17.9                 18.0   \n",
       "4                   18.2                 18.2   \n",
       "\n",
       "   Income composition of resources  Schooling   Measles  \n",
       "0                            0.479       10.1  0.538431  \n",
       "1                            0.476       10.0  0.229557  \n",
       "2                            0.470        9.9  0.200629  \n",
       "3                            0.463        9.8  1.300354  \n",
       "4                            0.454        9.5  1.405801  \n",
       "\n",
       "[5 rows x 22 columns]"
      ]
     },
     "execution_count": 30,
     "metadata": {},
     "output_type": "execute_result"
    }
   ],
   "source": [
    "#Reading data from cleaning notebook\n",
    "%store -r data\n",
    "data.head()"
   ]
  },
  {
   "cell_type": "code",
   "execution_count": 3,
   "id": "079ae388",
   "metadata": {
    "scrolled": false
   },
   "outputs": [
    {
     "data": {
      "text/plain": [
       "array([1, 0])"
      ]
     },
     "execution_count": 3,
     "metadata": {},
     "output_type": "execute_result"
    }
   ],
   "source": [
    "#Checking the unique values for Country Status column field\n",
    "data.Status.unique()"
   ]
  },
  {
   "cell_type": "code",
   "execution_count": 4,
   "id": "23fc6a1e",
   "metadata": {},
   "outputs": [],
   "source": [
    "#Creating two datasets, one for developing and another for developed countries\n",
    "developing= data[data['Status']==1]\n",
    "developed= data[data['Status']==0]"
   ]
  },
  {
   "cell_type": "code",
   "execution_count": 5,
   "id": "2290979b",
   "metadata": {
    "scrolled": false
   },
   "outputs": [
    {
     "name": "stdout",
     "output_type": "stream",
     "text": [
      "512\n",
      "2426\n"
     ]
    }
   ],
   "source": [
    "#Checking the count of sample data provided for developed and developing countries respectively\n",
    "print(len(developed.index))\n",
    "print(len(developing.index))"
   ]
  },
  {
   "cell_type": "markdown",
   "id": "d7ac1ab8",
   "metadata": {},
   "source": [
    "There are 512 samples for developed countries and 2426 samples for developing countries"
   ]
  },
  {
   "cell_type": "code",
   "execution_count": 6,
   "id": "cadb1e06",
   "metadata": {
    "scrolled": true
   },
   "outputs": [
    {
     "name": "stdout",
     "output_type": "stream",
     "text": [
      "512\n",
      "512\n"
     ]
    }
   ],
   "source": [
    "#Creating equal size samples including only variables of interest  for conducting hypothesis test\n",
    "sample1= developed[['Status','Life expectancy ','Hepatitis B','Measles','Polio','Diphtheria ']]\n",
    "sample2= developing[['Status','Life expectancy ','Hepatitis B','Measles','Polio','Diphtheria ']].sample(n=512, random_state=1)\n",
    "print(len(sample1.index))\n",
    "print(len(sample2.index))\n"
   ]
  },
  {
   "cell_type": "code",
   "execution_count": 7,
   "id": "efe65dea",
   "metadata": {},
   "outputs": [
    {
     "data": {
      "text/html": [
       "<div>\n",
       "<style scoped>\n",
       "    .dataframe tbody tr th:only-of-type {\n",
       "        vertical-align: middle;\n",
       "    }\n",
       "\n",
       "    .dataframe tbody tr th {\n",
       "        vertical-align: top;\n",
       "    }\n",
       "\n",
       "    .dataframe thead th {\n",
       "        text-align: right;\n",
       "    }\n",
       "</style>\n",
       "<table border=\"1\" class=\"dataframe\">\n",
       "  <thead>\n",
       "    <tr style=\"text-align: right;\">\n",
       "      <th></th>\n",
       "      <th>Status</th>\n",
       "      <th>Life_Expectancy</th>\n",
       "      <th>HepB</th>\n",
       "      <th>Measles</th>\n",
       "      <th>Polio</th>\n",
       "      <th>Diphtheria</th>\n",
       "    </tr>\n",
       "  </thead>\n",
       "  <tbody>\n",
       "    <tr>\n",
       "      <th>112</th>\n",
       "      <td>0</td>\n",
       "      <td>82.8</td>\n",
       "      <td>93.000000</td>\n",
       "      <td>0.034527</td>\n",
       "      <td>93.0</td>\n",
       "      <td>93.0</td>\n",
       "    </tr>\n",
       "    <tr>\n",
       "      <th>113</th>\n",
       "      <td>0</td>\n",
       "      <td>82.7</td>\n",
       "      <td>91.000000</td>\n",
       "      <td>0.158637</td>\n",
       "      <td>92.0</td>\n",
       "      <td>92.0</td>\n",
       "    </tr>\n",
       "    <tr>\n",
       "      <th>114</th>\n",
       "      <td>0</td>\n",
       "      <td>82.5</td>\n",
       "      <td>91.000000</td>\n",
       "      <td>0.073719</td>\n",
       "      <td>91.0</td>\n",
       "      <td>91.0</td>\n",
       "    </tr>\n",
       "    <tr>\n",
       "      <th>115</th>\n",
       "      <td>0</td>\n",
       "      <td>82.3</td>\n",
       "      <td>91.000000</td>\n",
       "      <td>0.092849</td>\n",
       "      <td>92.0</td>\n",
       "      <td>92.0</td>\n",
       "    </tr>\n",
       "    <tr>\n",
       "      <th>116</th>\n",
       "      <td>0</td>\n",
       "      <td>82.0</td>\n",
       "      <td>92.000000</td>\n",
       "      <td>0.088650</td>\n",
       "      <td>92.0</td>\n",
       "      <td>92.0</td>\n",
       "    </tr>\n",
       "    <tr>\n",
       "      <th>...</th>\n",
       "      <td>...</td>\n",
       "      <td>...</td>\n",
       "      <td>...</td>\n",
       "      <td>...</td>\n",
       "      <td>...</td>\n",
       "      <td>...</td>\n",
       "    </tr>\n",
       "    <tr>\n",
       "      <th>1310</th>\n",
       "      <td>1</td>\n",
       "      <td>73.1</td>\n",
       "      <td>36.000000</td>\n",
       "      <td>0.000000</td>\n",
       "      <td>99.0</td>\n",
       "      <td>96.0</td>\n",
       "    </tr>\n",
       "    <tr>\n",
       "      <th>87</th>\n",
       "      <td>1</td>\n",
       "      <td>75.4</td>\n",
       "      <td>9.000000</td>\n",
       "      <td>0.000000</td>\n",
       "      <td>94.0</td>\n",
       "      <td>93.0</td>\n",
       "    </tr>\n",
       "    <tr>\n",
       "      <th>1376</th>\n",
       "      <td>1</td>\n",
       "      <td>51.9</td>\n",
       "      <td>80.940461</td>\n",
       "      <td>5.274202</td>\n",
       "      <td>77.0</td>\n",
       "      <td>8.0</td>\n",
       "    </tr>\n",
       "    <tr>\n",
       "      <th>902</th>\n",
       "      <td>1</td>\n",
       "      <td>69.2</td>\n",
       "      <td>99.000000</td>\n",
       "      <td>0.000000</td>\n",
       "      <td>99.0</td>\n",
       "      <td>99.0</td>\n",
       "    </tr>\n",
       "    <tr>\n",
       "      <th>2822</th>\n",
       "      <td>1</td>\n",
       "      <td>75.4</td>\n",
       "      <td>91.000000</td>\n",
       "      <td>0.000000</td>\n",
       "      <td>91.0</td>\n",
       "      <td>91.0</td>\n",
       "    </tr>\n",
       "  </tbody>\n",
       "</table>\n",
       "<p>1024 rows × 6 columns</p>\n",
       "</div>"
      ],
      "text/plain": [
       "      Status  Life_Expectancy       HepB   Measles  Polio  Diphtheria\n",
       "112        0             82.8  93.000000  0.034527   93.0        93.0\n",
       "113        0             82.7  91.000000  0.158637   92.0        92.0\n",
       "114        0             82.5  91.000000  0.073719   91.0        91.0\n",
       "115        0             82.3  91.000000  0.092849   92.0        92.0\n",
       "116        0             82.0  92.000000  0.088650   92.0        92.0\n",
       "...      ...              ...        ...       ...    ...         ...\n",
       "1310       1             73.1  36.000000  0.000000   99.0        96.0\n",
       "87         1             75.4   9.000000  0.000000   94.0        93.0\n",
       "1376       1             51.9  80.940461  5.274202   77.0         8.0\n",
       "902        1             69.2  99.000000  0.000000   99.0        99.0\n",
       "2822       1             75.4  91.000000  0.000000   91.0        91.0\n",
       "\n",
       "[1024 rows x 6 columns]"
      ]
     },
     "execution_count": 7,
     "metadata": {},
     "output_type": "execute_result"
    }
   ],
   "source": [
    "#Merging the above two samples to create a sample with equal number of developing and developed countries data records\n",
    "sample= pd.concat([sample1, sample2],axis=0)\n",
    "sample.rename(columns={'Life expectancy ':'Life_Expectancy', 'Hepatitis B':'HepB','Diphtheria ':'Diphtheria'}, inplace=True)\n",
    "sample\n"
   ]
  },
  {
   "cell_type": "code",
   "execution_count": 8,
   "id": "131eedf9",
   "metadata": {
    "scrolled": true
   },
   "outputs": [],
   "source": [
    "#from statsmodels.multivariate.manova import MANOVA\n",
    "#maov=MANOVA.from_formula('Life_Expectancy + Status ~ HepB + Measles + Polio + Diphtheria ', data=sample)\n",
    "#print(maov.mv_test())"
   ]
  },
  {
   "cell_type": "code",
   "execution_count": 47,
   "id": "d88eced3",
   "metadata": {},
   "outputs": [
    {
     "name": "stdout",
     "output_type": "stream",
     "text": [
      "                df        sum_sq       mean_sq           F        PR(>F)\n",
      "HepB           1.0   3705.785721   3705.785721   62.037293  8.600744e-15\n",
      "Measles        1.0   2896.840981   2896.840981   48.495026  5.927916e-12\n",
      "Polio          1.0  14039.949338  14039.949338  235.037998  6.838405e-48\n",
      "Diphtheria     1.0   4099.776799   4099.776799   68.632964  3.703425e-16\n",
      "Residual    1019.0  60869.767843     59.734807         NaN           NaN\n",
      "              df        sum_sq       mean_sq           F         PR(>F)\n",
      "Status       1.0  37328.052922  37328.052922  790.100583  2.985822e-129\n",
      "Residual  1022.0  48284.067761     47.244685         NaN            NaN\n"
     ]
    }
   ],
   "source": [
    "#Conducting ANOVA test to verify the hypothesis\n",
    "import statsmodels.api as sm\n",
    "from statsmodels.formula.api import ols\n",
    "mod1 =ols('Life_Expectancy ~ HepB + Measles + Polio + Diphtheria', data=sample).fit() #two-way ANOVA test\n",
    "aov1= sm.stats.anova_lm(mod1, type=2)\n",
    "mod2 =ols('Life_Expectancy ~ Status', data=sample).fit() #One-way ANOVA test\n",
    "aov2= sm.stats.anova_lm(mod2, type=2)\n",
    "print(aov1)\n",
    "print(aov2)"
   ]
  },
  {
   "cell_type": "code",
   "execution_count": 44,
   "id": "2a7f6cbe",
   "metadata": {},
   "outputs": [
    {
     "data": {
      "text/html": [
       "<table class=\"simpletable\">\n",
       "<caption>OLS Regression Results</caption>\n",
       "<tr>\n",
       "  <th>Dep. Variable:</th>     <td>Life_Expectancy</td> <th>  R-squared:         </th> <td>   0.289</td>\n",
       "</tr>\n",
       "<tr>\n",
       "  <th>Model:</th>                   <td>OLS</td>       <th>  Adj. R-squared:    </th> <td>   0.286</td>\n",
       "</tr>\n",
       "<tr>\n",
       "  <th>Method:</th>             <td>Least Squares</td>  <th>  F-statistic:       </th> <td>   103.6</td>\n",
       "</tr>\n",
       "<tr>\n",
       "  <th>Date:</th>             <td>Thu, 09 Dec 2021</td> <th>  Prob (F-statistic):</th> <td>4.98e-74</td>\n",
       "</tr>\n",
       "<tr>\n",
       "  <th>Time:</th>                 <td>23:44:14</td>     <th>  Log-Likelihood:    </th> <td> -3544.5</td>\n",
       "</tr>\n",
       "<tr>\n",
       "  <th>No. Observations:</th>      <td>  1024</td>      <th>  AIC:               </th> <td>   7099.</td>\n",
       "</tr>\n",
       "<tr>\n",
       "  <th>Df Residuals:</th>          <td>  1019</td>      <th>  BIC:               </th> <td>   7124.</td>\n",
       "</tr>\n",
       "<tr>\n",
       "  <th>Df Model:</th>              <td>     4</td>      <th>                     </th>     <td> </td>   \n",
       "</tr>\n",
       "<tr>\n",
       "  <th>Covariance Type:</th>      <td>nonrobust</td>    <th>                     </th>     <td> </td>   \n",
       "</tr>\n",
       "</table>\n",
       "<table class=\"simpletable\">\n",
       "<tr>\n",
       "       <td></td>         <th>coef</th>     <th>std err</th>      <th>t</th>      <th>P>|t|</th>  <th>[0.025</th>    <th>0.975]</th>  \n",
       "</tr>\n",
       "<tr>\n",
       "  <th>Intercept</th>  <td>   52.7445</td> <td>    1.255</td> <td>   42.020</td> <td> 0.000</td> <td>   50.281</td> <td>   55.208</td>\n",
       "</tr>\n",
       "<tr>\n",
       "  <th>HepB</th>       <td>   -0.0114</td> <td>    0.013</td> <td>   -0.909</td> <td> 0.363</td> <td>   -0.036</td> <td>    0.013</td>\n",
       "</tr>\n",
       "<tr>\n",
       "  <th>Measles</th>    <td>   -0.2668</td> <td>    0.063</td> <td>   -4.206</td> <td> 0.000</td> <td>   -0.391</td> <td>   -0.142</td>\n",
       "</tr>\n",
       "<tr>\n",
       "  <th>Polio</th>      <td>    0.1165</td> <td>    0.015</td> <td>    7.590</td> <td> 0.000</td> <td>    0.086</td> <td>    0.147</td>\n",
       "</tr>\n",
       "<tr>\n",
       "  <th>Diphtheria</th> <td>    0.1323</td> <td>    0.016</td> <td>    8.285</td> <td> 0.000</td> <td>    0.101</td> <td>    0.164</td>\n",
       "</tr>\n",
       "</table>\n",
       "<table class=\"simpletable\">\n",
       "<tr>\n",
       "  <th>Omnibus:</th>       <td>84.010</td> <th>  Durbin-Watson:     </th> <td>   1.231</td>\n",
       "</tr>\n",
       "<tr>\n",
       "  <th>Prob(Omnibus):</th> <td> 0.000</td> <th>  Jarque-Bera (JB):  </th> <td> 131.472</td>\n",
       "</tr>\n",
       "<tr>\n",
       "  <th>Skew:</th>          <td>-0.605</td> <th>  Prob(JB):          </th> <td>2.83e-29</td>\n",
       "</tr>\n",
       "<tr>\n",
       "  <th>Kurtosis:</th>      <td> 4.272</td> <th>  Cond. No.          </th> <td>    781.</td>\n",
       "</tr>\n",
       "</table><br/><br/>Notes:<br/>[1] Standard Errors assume that the covariance matrix of the errors is correctly specified."
      ],
      "text/plain": [
       "<class 'statsmodels.iolib.summary.Summary'>\n",
       "\"\"\"\n",
       "                            OLS Regression Results                            \n",
       "==============================================================================\n",
       "Dep. Variable:        Life_Expectancy   R-squared:                       0.289\n",
       "Model:                            OLS   Adj. R-squared:                  0.286\n",
       "Method:                 Least Squares   F-statistic:                     103.6\n",
       "Date:                Thu, 09 Dec 2021   Prob (F-statistic):           4.98e-74\n",
       "Time:                        23:44:14   Log-Likelihood:                -3544.5\n",
       "No. Observations:                1024   AIC:                             7099.\n",
       "Df Residuals:                    1019   BIC:                             7124.\n",
       "Df Model:                           4                                         \n",
       "Covariance Type:            nonrobust                                         \n",
       "==============================================================================\n",
       "                 coef    std err          t      P>|t|      [0.025      0.975]\n",
       "------------------------------------------------------------------------------\n",
       "Intercept     52.7445      1.255     42.020      0.000      50.281      55.208\n",
       "HepB          -0.0114      0.013     -0.909      0.363      -0.036       0.013\n",
       "Measles       -0.2668      0.063     -4.206      0.000      -0.391      -0.142\n",
       "Polio          0.1165      0.015      7.590      0.000       0.086       0.147\n",
       "Diphtheria     0.1323      0.016      8.285      0.000       0.101       0.164\n",
       "==============================================================================\n",
       "Omnibus:                       84.010   Durbin-Watson:                   1.231\n",
       "Prob(Omnibus):                  0.000   Jarque-Bera (JB):              131.472\n",
       "Skew:                          -0.605   Prob(JB):                     2.83e-29\n",
       "Kurtosis:                       4.272   Cond. No.                         781.\n",
       "==============================================================================\n",
       "\n",
       "Notes:\n",
       "[1] Standard Errors assume that the covariance matrix of the errors is correctly specified.\n",
       "\"\"\""
      ]
     },
     "execution_count": 44,
     "metadata": {},
     "output_type": "execute_result"
    }
   ],
   "source": [
    "mod1.summary()"
   ]
  },
  {
   "cell_type": "code",
   "execution_count": 42,
   "id": "b8edd0d3",
   "metadata": {},
   "outputs": [
    {
     "data": {
      "text/html": [
       "<table class=\"simpletable\">\n",
       "<caption>OLS Regression Results</caption>\n",
       "<tr>\n",
       "  <th>Dep. Variable:</th>     <td>Life_Expectancy</td> <th>  R-squared:         </th> <td>   0.436</td> \n",
       "</tr>\n",
       "<tr>\n",
       "  <th>Model:</th>                   <td>OLS</td>       <th>  Adj. R-squared:    </th> <td>   0.435</td> \n",
       "</tr>\n",
       "<tr>\n",
       "  <th>Method:</th>             <td>Least Squares</td>  <th>  F-statistic:       </th> <td>   790.1</td> \n",
       "</tr>\n",
       "<tr>\n",
       "  <th>Date:</th>             <td>Thu, 09 Dec 2021</td> <th>  Prob (F-statistic):</th> <td>2.99e-129</td>\n",
       "</tr>\n",
       "<tr>\n",
       "  <th>Time:</th>                 <td>23:40:28</td>     <th>  Log-Likelihood:    </th> <td> -3425.9</td> \n",
       "</tr>\n",
       "<tr>\n",
       "  <th>No. Observations:</th>      <td>  1024</td>      <th>  AIC:               </th> <td>   6856.</td> \n",
       "</tr>\n",
       "<tr>\n",
       "  <th>Df Residuals:</th>          <td>  1022</td>      <th>  BIC:               </th> <td>   6866.</td> \n",
       "</tr>\n",
       "<tr>\n",
       "  <th>Df Model:</th>              <td>     1</td>      <th>                     </th>     <td> </td>    \n",
       "</tr>\n",
       "<tr>\n",
       "  <th>Covariance Type:</th>      <td>nonrobust</td>    <th>                     </th>     <td> </td>    \n",
       "</tr>\n",
       "</table>\n",
       "<table class=\"simpletable\">\n",
       "<tr>\n",
       "      <td></td>         <th>coef</th>     <th>std err</th>      <th>t</th>      <th>P>|t|</th>  <th>[0.025</th>    <th>0.975]</th>  \n",
       "</tr>\n",
       "<tr>\n",
       "  <th>Intercept</th> <td>   79.1979</td> <td>    0.304</td> <td>  260.719</td> <td> 0.000</td> <td>   78.602</td> <td>   79.794</td>\n",
       "</tr>\n",
       "<tr>\n",
       "  <th>Status</th>    <td>  -12.0753</td> <td>    0.430</td> <td>  -28.109</td> <td> 0.000</td> <td>  -12.918</td> <td>  -11.232</td>\n",
       "</tr>\n",
       "</table>\n",
       "<table class=\"simpletable\">\n",
       "<tr>\n",
       "  <th>Omnibus:</th>       <td>70.584</td> <th>  Durbin-Watson:     </th> <td>   1.660</td>\n",
       "</tr>\n",
       "<tr>\n",
       "  <th>Prob(Omnibus):</th> <td> 0.000</td> <th>  Jarque-Bera (JB):  </th> <td>  89.231</td>\n",
       "</tr>\n",
       "<tr>\n",
       "  <th>Skew:</th>          <td>-0.614</td> <th>  Prob(JB):          </th> <td>4.21e-20</td>\n",
       "</tr>\n",
       "<tr>\n",
       "  <th>Kurtosis:</th>      <td> 3.763</td> <th>  Cond. No.          </th> <td>    2.62</td>\n",
       "</tr>\n",
       "</table><br/><br/>Notes:<br/>[1] Standard Errors assume that the covariance matrix of the errors is correctly specified."
      ],
      "text/plain": [
       "<class 'statsmodels.iolib.summary.Summary'>\n",
       "\"\"\"\n",
       "                            OLS Regression Results                            \n",
       "==============================================================================\n",
       "Dep. Variable:        Life_Expectancy   R-squared:                       0.436\n",
       "Model:                            OLS   Adj. R-squared:                  0.435\n",
       "Method:                 Least Squares   F-statistic:                     790.1\n",
       "Date:                Thu, 09 Dec 2021   Prob (F-statistic):          2.99e-129\n",
       "Time:                        23:40:28   Log-Likelihood:                -3425.9\n",
       "No. Observations:                1024   AIC:                             6856.\n",
       "Df Residuals:                    1022   BIC:                             6866.\n",
       "Df Model:                           1                                         \n",
       "Covariance Type:            nonrobust                                         \n",
       "==============================================================================\n",
       "                 coef    std err          t      P>|t|      [0.025      0.975]\n",
       "------------------------------------------------------------------------------\n",
       "Intercept     79.1979      0.304    260.719      0.000      78.602      79.794\n",
       "Status       -12.0753      0.430    -28.109      0.000     -12.918     -11.232\n",
       "==============================================================================\n",
       "Omnibus:                       70.584   Durbin-Watson:                   1.660\n",
       "Prob(Omnibus):                  0.000   Jarque-Bera (JB):               89.231\n",
       "Skew:                          -0.614   Prob(JB):                     4.21e-20\n",
       "Kurtosis:                       3.763   Cond. No.                         2.62\n",
       "==============================================================================\n",
       "\n",
       "Notes:\n",
       "[1] Standard Errors assume that the covariance matrix of the errors is correctly specified.\n",
       "\"\"\""
      ]
     },
     "execution_count": 42,
     "metadata": {},
     "output_type": "execute_result"
    }
   ],
   "source": [
    "mod2.summary()"
   ]
  },
  {
   "cell_type": "markdown",
   "id": "50f305cf",
   "metadata": {},
   "source": [
    "P-Values is less then .05, hence we reject the null hypothesis. There is a statistically significant relationship between Life Expectancy and Country Status (Developing or Developed)."
   ]
  },
  {
   "cell_type": "code",
   "execution_count": 10,
   "id": "533e54df",
   "metadata": {},
   "outputs": [],
   "source": [
    "#Creating target variable and independent variables dataset\n",
    "df_X= data.drop(['Life expectancy '], axis=1)\n",
    "df_y = data['Life expectancy ']"
   ]
  },
  {
   "cell_type": "code",
   "execution_count": 11,
   "id": "ef618dcc",
   "metadata": {
    "scrolled": true
   },
   "outputs": [
    {
     "name": "stdout",
     "output_type": "stream",
     "text": [
      "Index(['Country', 'Year', 'Status', 'Adult Mortality', 'infant deaths',\n",
      "       'Alcohol', 'percentage expenditure', 'Hepatitis B', ' BMI ',\n",
      "       'under-five deaths ', 'Polio', 'Total expenditure', 'Diphtheria ',\n",
      "       ' HIV/AIDS', 'GDP', 'Population', ' thinness  1-19 years',\n",
      "       ' thinness 5-9 years', 'Income composition of resources', 'Schooling',\n",
      "       'Measles'],\n",
      "      dtype='object')\n",
      "0       65.0\n",
      "1       59.9\n",
      "2       59.9\n",
      "3       59.5\n",
      "4       59.2\n",
      "        ... \n",
      "2933    44.3\n",
      "2934    44.5\n",
      "2935    44.8\n",
      "2936    45.3\n",
      "2937    46.0\n",
      "Name: Life expectancy , Length: 2938, dtype: float64\n"
     ]
    }
   ],
   "source": [
    "print(df_X.columns)\n",
    "print(df_y)\n"
   ]
  },
  {
   "cell_type": "code",
   "execution_count": 12,
   "id": "f200058c",
   "metadata": {},
   "outputs": [],
   "source": [
    "X = df_X\n",
    "y = df_y"
   ]
  },
  {
   "cell_type": "code",
   "execution_count": 13,
   "id": "605281fa",
   "metadata": {},
   "outputs": [],
   "source": [
    "#Splitting the DataFrame instances into training and test data\n",
    "from sklearn.model_selection import train_test_split\n",
    "\n",
    "X_train, X_test, y_train, y_test = train_test_split(X, y, test_size=0.2, random_state=0) "
   ]
  },
  {
   "cell_type": "code",
   "execution_count": 14,
   "id": "6fe7c4e9",
   "metadata": {},
   "outputs": [
    {
     "name": "stdout",
     "output_type": "stream",
     "text": [
      "(2350, 21)\n",
      "(588, 21)\n",
      "(2350,)\n",
      "(588,)\n"
     ]
    }
   ],
   "source": [
    "#Cross-checking the splitted data shape\n",
    "print(X_train.shape)\n",
    "print(X_test.shape)\n",
    "print(y_train.shape)\n",
    "print(y_test.shape)"
   ]
  },
  {
   "cell_type": "code",
   "execution_count": 15,
   "id": "7eee8e04",
   "metadata": {},
   "outputs": [],
   "source": [
    "##Scaling the data using StandardScaler before performing PCA\n",
    "from sklearn.preprocessing import StandardScaler\n",
    "\n",
    "sc = StandardScaler()  \n",
    "X_train = sc.fit_transform(X_train)  \n",
    "X_test = sc.transform(X_test)  "
   ]
  },
  {
   "cell_type": "code",
   "execution_count": 16,
   "id": "29ed360a",
   "metadata": {},
   "outputs": [
    {
     "name": "stdout",
     "output_type": "stream",
     "text": [
      "(2350, 21)\n",
      "(588, 21)\n"
     ]
    }
   ],
   "source": [
    "#Initializing PCA object, fitting and transforming training and test data \n",
    "pca= PCA()\n",
    "X_train = pca.fit_transform(X_train) \n",
    "X_test = pca.transform(X_test)\n",
    "print(X_train.shape)\n",
    "print(X_test.shape)"
   ]
  },
  {
   "cell_type": "code",
   "execution_count": 17,
   "id": "fd9d6d87",
   "metadata": {
    "scrolled": true
   },
   "outputs": [
    {
     "data": {
      "text/plain": [
       "array([2.79283639e-01, 1.28269045e-01, 8.54717206e-02, 6.64158566e-02,\n",
       "       5.95785558e-02, 5.06261326e-02, 4.64213383e-02, 4.12386669e-02,\n",
       "       3.78039536e-02, 3.71563671e-02, 2.92761021e-02, 2.64757872e-02,\n",
       "       2.28777051e-02, 1.96328588e-02, 1.91401556e-02, 1.79457149e-02,\n",
       "       1.49721747e-02, 9.16653375e-03, 5.31207996e-03, 2.81391727e-03,\n",
       "       1.21695500e-04])"
      ]
     },
     "execution_count": 17,
     "metadata": {},
     "output_type": "execute_result"
    }
   ],
   "source": [
    "#Checking the Variance contributed by each of the 21b features\n",
    "explained_variance= pca.explained_variance_ratio_\n",
    "explained_variance"
   ]
  },
  {
   "cell_type": "code",
   "execution_count": 34,
   "id": "d6a83a4a",
   "metadata": {},
   "outputs": [
    {
     "data": {
      "text/plain": [
       "<function matplotlib.pyplot.show(close=None, block=None)>"
      ]
     },
     "execution_count": 34,
     "metadata": {},
     "output_type": "execute_result"
    },
    {
     "data": {
      "image/png": "[encoded data removed]",
      "text/plain": [
       "<Figure size 432x288 with 1 Axes>"
      ]
     },
     "metadata": {
      "needs_background": "light"
     },
     "output_type": "display_data"
    }
   ],
   "source": [
    "#Plotting the variance (Elbow Analysis)\n",
    "plt.plot(explained_variance)\n",
    "plt.title(\"variance\")\n",
    "plt.show\n"
   ]
  },
  {
   "cell_type": "code",
   "execution_count": 19,
   "id": "d8501033",
   "metadata": {},
   "outputs": [
    {
     "name": "stdout",
     "output_type": "stream",
     "text": [
      "(2350, 8)\n",
      "(588, 8)\n"
     ]
    }
   ],
   "source": [
    "#Performing PCA with a threshold value of .75\n",
    "pca1= PCA(.75)\n",
    "X_train_th1 = pca1.fit_transform(X_train) \n",
    "X_test_th1 = pca1.transform(X_test)\n",
    "print(X_train_th1.shape)\n",
    "print(X_test_th1.shape)"
   ]
  },
  {
   "cell_type": "code",
   "execution_count": 20,
   "id": "02209135",
   "metadata": {},
   "outputs": [
    {
     "name": "stdout",
     "output_type": "stream",
     "text": [
      "(2350, 16)\n",
      "(588, 16)\n"
     ]
    }
   ],
   "source": [
    "#Performing PCA with a threshold value of .95\n",
    "pca2= PCA(.95)\n",
    "X_train_th2 = pca2.fit_transform(X_train) \n",
    "X_test_th2 = pca2.transform(X_test)\n",
    "print(X_train_th2.shape)\n",
    "print(X_test_th2.shape)"
   ]
  },
  {
   "cell_type": "code",
   "execution_count": 21,
   "id": "ffb0c1af",
   "metadata": {},
   "outputs": [
    {
     "name": "stdout",
     "output_type": "stream",
     "text": [
      "(2350, 8)\n",
      "(2350,)\n",
      "69.10081888733868\n",
      "[-3.04074107  1.55709554 -1.28017832 -1.75576542  0.90986437 -0.08320959\n",
      " -1.07795224 -0.39073642]\n"
     ]
    }
   ],
   "source": [
    "#Performing Linear Regression on the principal model keeping only 8 attributes contributing to 75% variance\n",
    "#and predicting life expectancy value\n",
    "print(X_train_th1.shape)\n",
    "print(y_train.shape)\n",
    "linear_model1= LinearRegression()\n",
    "linear_model1.fit(X_train_th1,y_train)\n",
    "print(linear_model1.intercept_)\n",
    "print(linear_model1.coef_)\n",
    "y_pred_1= linear_model1.predict(X_test_th1)"
   ]
  },
  {
   "cell_type": "code",
   "execution_count": 22,
   "id": "252224de",
   "metadata": {},
   "outputs": [
    {
     "name": "stdout",
     "output_type": "stream",
     "text": [
      "0.7801779191752156\n"
     ]
    }
   ],
   "source": [
    "#R Squared Value (.75 PCA)\n",
    "print(linear_model1.score(X_train_th1, y_train))"
   ]
  },
  {
   "cell_type": "code",
   "execution_count": 23,
   "id": "f7255b60",
   "metadata": {},
   "outputs": [
    {
     "name": "stdout",
     "output_type": "stream",
     "text": [
      "0.7794267117225893\n"
     ]
    }
   ],
   "source": [
    "#Adjusted Squared Value (.75 PCA)\n",
    "adjusted_r_squared_th1 = 1 - (1-linear_model1.score(X_train_th1, y_train))*(len(X_train_th1)-1)/(len(X_train_th1)-X_train_th1.shape[1]-1)\n",
    "print(adjusted_r_squared_th1)\n",
    "#adjusted_r_squared_th1 = 1 - (1-linear_model1.score(X_train_th1, y_train))*(X_train_th1.shape[0]-1)/(X_train_th1.shape[0]-X_train_th1.shape[1]-1)\n",
    "#print(adjusted_r_squared_th1)"
   ]
  },
  {
   "cell_type": "code",
   "execution_count": 24,
   "id": "695dff21",
   "metadata": {},
   "outputs": [
    {
     "name": "stdout",
     "output_type": "stream",
     "text": [
      "(2350, 16)\n",
      "(2350,)\n",
      "69.10081888733868\n",
      "[-3.04074107  1.55709554 -1.28017832 -1.75576542  0.90986437 -0.08320959\n",
      " -1.07795224 -0.39073642 -0.27742955 -1.55301705 -0.85186574  0.48194521\n",
      " -0.20614005 -0.31656784  0.15172955 -0.03293417]\n"
     ]
    }
   ],
   "source": [
    "#Performing Linear Regression on the principal model keeping only 16 attributes contributing to 95% variance and predicting life expectancy value \n",
    "print(X_train_th2.shape)\n",
    "print(y_train.shape)\n",
    "linear_model2= LinearRegression()\n",
    "linear_model2.fit(X_train_th2,y_train)\n",
    "print(linear_model2.intercept_)\n",
    "print(linear_model2.coef_)\n",
    "y_pred_2= linear_model2.predict(X_test_th2)"
   ]
  },
  {
   "cell_type": "code",
   "execution_count": 25,
   "id": "fd9b4429",
   "metadata": {},
   "outputs": [
    {
     "name": "stdout",
     "output_type": "stream",
     "text": [
      "0.8089148723489155\n"
     ]
    }
   ],
   "source": [
    "#R Squared Value (.95 PCA)\n",
    "print(linear_model2.score(X_train_th2, y_train))"
   ]
  },
  {
   "cell_type": "code",
   "execution_count": 26,
   "id": "b2f319c2",
   "metadata": {},
   "outputs": [
    {
     "name": "stdout",
     "output_type": "stream",
     "text": [
      "0.8076043871185608\n"
     ]
    }
   ],
   "source": [
    "#Adjusted Squared Value (.95 PCA)\n",
    "adjusted_r_squared_th2 = 1 - (1-linear_model2.score(X_train_th2, y_train))*(len(X_train_th2)-1)/(len(X_train_th2)-X_train_th2.shape[1]-1)\n",
    "print(adjusted_r_squared_th2)"
   ]
  },
  {
   "cell_type": "code",
   "execution_count": 27,
   "id": "a4849079",
   "metadata": {},
   "outputs": [
    {
     "name": "stdout",
     "output_type": "stream",
     "text": [
      "Mean Absolute Error: 3.353720226595512\n",
      "Mean Squared Error: 19.709594574432685\n",
      "Root Mean Squared Error: 4.439548915648152\n"
     ]
    }
   ],
   "source": [
    "##MAE, ME, and RMSE for .75 PCA\n",
    "from sklearn import metrics  \n",
    "print('Mean Absolute Error:', metrics.mean_absolute_error(y_test, y_pred_1))  \n",
    "print('Mean Squared Error:', metrics.mean_squared_error(y_test, y_pred_1))  \n",
    "print('Root Mean Squared Error:', np.sqrt(metrics.mean_squared_error(y_test, y_pred_1)))"
   ]
  },
  {
   "cell_type": "code",
   "execution_count": 28,
   "id": "3434ce24",
   "metadata": {},
   "outputs": [
    {
     "name": "stdout",
     "output_type": "stream",
     "text": [
      "Mean Absolute Error: 3.1009481785996367\n",
      "Mean Squared Error: 17.45658992021197\n",
      "Root Mean Squared Error: 4.178108414128572\n"
     ]
    }
   ],
   "source": [
    "#MAE, ME, and RMSE for .95 PCA\n",
    "from sklearn import metrics  \n",
    "print('Mean Absolute Error:', metrics.mean_absolute_error(y_test, y_pred_2))  \n",
    "print('Mean Squared Error:', metrics.mean_squared_error(y_test, y_pred_2))  \n",
    "print('Root Mean Squared Error:', np.sqrt(metrics.mean_squared_error(y_test, y_pred_2)))"
   ]
  },
  {
   "cell_type": "code",
   "execution_count": null,
   "id": "ba863116",
   "metadata": {},
   "outputs": [],
   "source": []
  }
 ],
 "metadata": {
  "kernelspec": {
   "display_name": "Python 3",
   "language": "python",
   "name": "python3"
  },
  "language_info": {
   "codemirror_mode": {
    "name": "ipython",
    "version": 3
   },
   "file_extension": ".py",
   "mimetype": "text/x-python",
   "name": "python",
   "nbconvert_exporter": "python",
   "pygments_lexer": "ipython3",
   "version": "3.8.8"
  }
 },
 "nbformat": 4,
 "nbformat_minor": 5
}
